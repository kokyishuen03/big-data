{
 "cells": [
  {
   "cell_type": "code",
   "execution_count": 6,
   "id": "63bf1a37",
   "metadata": {},
   "outputs": [
    {
     "name": "stdout",
     "output_type": "stream",
     "text": [
      "   lastSensorEventHours  lastSensorEventSeconds  lastSensorDayOfWeek  \\\n",
      "0                   3.0                 13117.0                  2.0   \n",
      "\n",
      "   windowDuration  timeSinceLastSensorEvent  prevDominantSensor1  \\\n",
      "0         12725.0                       3.0                  0.0   \n",
      "\n",
      "   prevDominantSensor2  lastSensorID  lastSensorLocation  lastMotionLocation  \\\n",
      "0                  0.0           1.0                 1.0                 1.0   \n",
      "\n",
      "   ...  sensorElTime-Chair  sensorElTime-DiningRoom  sensorElTime-Hall  \\\n",
      "0  ...             86400.0                  86400.0            86400.0   \n",
      "\n",
      "   sensorElTime-Ignore  sensorElTime-Kitchen  sensorElTime-LivingRoom  \\\n",
      "0         11615.423856               86400.0                  86400.0   \n",
      "\n",
      "   sensorElTime-Office  sensorElTime-OutsideDoor  sensorElTime-WorkArea  \\\n",
      "0              86400.0                   86400.0                86400.0   \n",
      "\n",
      "   activity  \n",
      "0         ?  \n",
      "\n",
      "[1 rows x 37 columns]\n"
     ]
    }
   ],
   "source": [
    "import pandas as pd\n",
    "import sys\n",
    "\n",
    "#rmb chg ur file location wei hahhaha\n",
    "df = pd.read_csv(r\"D:/onedrive file/Final Sem/IST3134 Big Data/asgm/csh102.rawdata.features.csv\")\n",
    "df.head(1)\n",
    "# Display the first row of the DataFrame, checking for data anomalies\n",
    "print(df.head(1))\n"
   ]
  },
  {
   "cell_type": "code",
   "execution_count": 7,
   "id": "beda813b",
   "metadata": {},
   "outputs": [],
   "source": [
    "#drop the 'activity' column and any rows with NaN values    \n",
    "df = df.drop(columns=['activity'])\n",
    "df = df.dropna()"
   ]
  },
  {
   "cell_type": "code",
   "execution_count": 9,
   "id": "045ec217",
   "metadata": {},
   "outputs": [
    {
     "name": "stdout",
     "output_type": "stream",
     "text": [
      "   lastSensorEventHours  lastSensorEventSeconds  lastSensorDayOfWeek  \\\n",
      "0                   3.0                 13117.0                  2.0   \n",
      "\n",
      "   windowDuration  timeSinceLastSensorEvent  prevDominantSensor1  \\\n",
      "0         12725.0                       3.0                  0.0   \n",
      "\n",
      "   prevDominantSensor2  lastSensorID  lastSensorLocation  lastMotionLocation  \\\n",
      "0                  0.0           1.0                 1.0                 1.0   \n",
      "\n",
      "   ...  sensorElTime-Bedroom  sensorElTime-Chair  sensorElTime-DiningRoom  \\\n",
      "0  ...                   0.0             86400.0                  86400.0   \n",
      "\n",
      "   sensorElTime-Hall  sensorElTime-Ignore  sensorElTime-Kitchen  \\\n",
      "0            86400.0         11615.423856               86400.0   \n",
      "\n",
      "   sensorElTime-LivingRoom  sensorElTime-Office  sensorElTime-OutsideDoor  \\\n",
      "0                  86400.0              86400.0                   86400.0   \n",
      "\n",
      "   sensorElTime-WorkArea  \n",
      "0                86400.0  \n",
      "\n",
      "[1 rows x 36 columns]\n"
     ]
    }
   ],
   "source": [
    "print(df.head(1))"
   ]
  },
  {
   "cell_type": "code",
   "execution_count": null,
   "id": "e6258e4c",
   "metadata": {},
   "outputs": [],
   "source": [
    "import pandas as pd\n",
    "\n",
    "# Step 1: Load full dataset\n",
    "input_path = \"D:/onedrive file/Final Sem/IST3134 Big Data/asgm/csh102.rawdata.features.csv\"  # Replace with your full file path\n",
    "df = pd.read_csv(input_path)\n",
    "\n",
    "# Step 2: Keep only needed columns\n",
    "# Make sure these names match exactly (case sensitive)\n",
    "required_columns = [\"lastSensorLocation\", \"windowDuration\"]\n",
    "df_cleaned = df[required_columns]\n",
    "\n",
    "# Step 3: Drop rows with missing or invalid data\n",
    "df_cleaned = df_cleaned.dropna()\n",
    "df_cleaned = df_cleaned[df_cleaned[\"windowDuration\"].apply(lambda x: str(x).isdigit())]\n",
    "\n",
    "# Step 4: Convert types\n",
    "df_cleaned[\"lastSensorLocation\"] = df_cleaned[\"lastSensorLocation\"].astype(int)\n",
    "df_cleaned[\"windowDuration\"] = df_cleaned[\"windowDuration\"].astype(int)\n",
    "\n",
    "# Step 5: Save to cleaned CSV\n",
    "output_path = \"sensor_duration_cleaned.csv\"\n",
    "df_cleaned.to_csv(output_path, index=False, header=False)\n"
   ]
  }
 ],
 "metadata": {
  "kernelspec": {
   "display_name": "Python 3",
   "language": "python",
   "name": "python3"
  },
  "language_info": {
   "codemirror_mode": {
    "name": "ipython",
    "version": 3
   },
   "file_extension": ".py",
   "mimetype": "text/x-python",
   "name": "python",
   "nbconvert_exporter": "python",
   "pygments_lexer": "ipython3",
   "version": "3.11.1"
  }
 },
 "nbformat": 4,
 "nbformat_minor": 5
}
